{
 "cells": [
  {
   "cell_type": "code",
   "execution_count": 2,
   "metadata": {},
   "outputs": [],
   "source": [
    "import json\n",
    "import pandas as pd\n",
    "import soundfile as sf\n",
    "from io import StringIO"
   ]
  },
  {
   "cell_type": "code",
   "execution_count": 5,
   "metadata": {},
   "outputs": [],
   "source": [
    "data = pd.read_json(open(\"../data/slurp_dataset/slurp/devel.jsonl\", \"r\"), lines=True)"
   ]
  },
  {
   "cell_type": "code",
   "execution_count": 6,
   "metadata": {},
   "outputs": [
    {
     "data": {
      "text/html": [
       "<div>\n",
       "<style scoped>\n",
       "    .dataframe tbody tr th:only-of-type {\n",
       "        vertical-align: middle;\n",
       "    }\n",
       "\n",
       "    .dataframe tbody tr th {\n",
       "        vertical-align: top;\n",
       "    }\n",
       "\n",
       "    .dataframe thead th {\n",
       "        text-align: right;\n",
       "    }\n",
       "</style>\n",
       "<table border=\"1\" class=\"dataframe\">\n",
       "  <thead>\n",
       "    <tr style=\"text-align: right;\">\n",
       "      <th></th>\n",
       "      <th>slurp_id</th>\n",
       "      <th>sentence</th>\n",
       "      <th>sentence_annotation</th>\n",
       "      <th>intent</th>\n",
       "      <th>action</th>\n",
       "      <th>tokens</th>\n",
       "      <th>scenario</th>\n",
       "      <th>recordings</th>\n",
       "      <th>entities</th>\n",
       "    </tr>\n",
       "  </thead>\n",
       "  <tbody>\n",
       "    <tr>\n",
       "      <th>0</th>\n",
       "      <td>13804</td>\n",
       "      <td>siri what is one american dollar in japanese yen</td>\n",
       "      <td>siri what is one [currency_name : american dol...</td>\n",
       "      <td>qa_currency</td>\n",
       "      <td>currency</td>\n",
       "      <td>[{'surface': 'siri', 'id': 0, 'lemma': 'siri',...</td>\n",
       "      <td>qa</td>\n",
       "      <td>[{'file': 'audio-1434542201-headset.flac', 'we...</td>\n",
       "      <td>[{'span': [4, 5], 'type': 'currency_name'}, {'...</td>\n",
       "    </tr>\n",
       "    <tr>\n",
       "      <th>1</th>\n",
       "      <td>16421</td>\n",
       "      <td>how many unread emails do i have</td>\n",
       "      <td>how many unread emails do i have</td>\n",
       "      <td>email_query</td>\n",
       "      <td>query</td>\n",
       "      <td>[{'surface': 'how', 'id': 0, 'lemma': 'how', '...</td>\n",
       "      <td>email</td>\n",
       "      <td>[{'file': 'audio-1499695168-headset.flac', 'we...</td>\n",
       "      <td>[]</td>\n",
       "    </tr>\n",
       "    <tr>\n",
       "      <th>2</th>\n",
       "      <td>3843</td>\n",
       "      <td>order me chinese food</td>\n",
       "      <td>order me [food_type : chinese] food</td>\n",
       "      <td>takeaway_order</td>\n",
       "      <td>order</td>\n",
       "      <td>[{'surface': 'order', 'id': 0, 'lemma': 'order...</td>\n",
       "      <td>takeaway</td>\n",
       "      <td>[{'file': 'audio-1490201253-headset.flac', 'we...</td>\n",
       "      <td>[{'span': [2], 'type': 'food_type'}]</td>\n",
       "    </tr>\n",
       "    <tr>\n",
       "      <th>3</th>\n",
       "      <td>3296</td>\n",
       "      <td>does the nearby chinese restaurant do delivery</td>\n",
       "      <td>does the nearby [food_type : chinese] [busines...</td>\n",
       "      <td>takeaway_query</td>\n",
       "      <td>query</td>\n",
       "      <td>[{'surface': 'does', 'id': 0, 'lemma': 'do', '...</td>\n",
       "      <td>takeaway</td>\n",
       "      <td>[{'file': 'audio-1502299642-headset.flac', 'we...</td>\n",
       "      <td>[{'span': [3], 'type': 'food_type'}, {'span': ...</td>\n",
       "    </tr>\n",
       "    <tr>\n",
       "      <th>4</th>\n",
       "      <td>10732</td>\n",
       "      <td>remove pepper from my grocery list</td>\n",
       "      <td>remove pepper from my [list_name : grocery] list</td>\n",
       "      <td>lists_remove</td>\n",
       "      <td>remove</td>\n",
       "      <td>[{'surface': 'remove', 'id': 0, 'lemma': 'remo...</td>\n",
       "      <td>lists</td>\n",
       "      <td>[{'file': 'audio-1490184504-headset.flac', 'we...</td>\n",
       "      <td>[{'span': [4], 'type': 'list_name'}]</td>\n",
       "    </tr>\n",
       "  </tbody>\n",
       "</table>\n",
       "</div>"
      ],
      "text/plain": [
       "   slurp_id                                          sentence  \\\n",
       "0     13804  siri what is one american dollar in japanese yen   \n",
       "1     16421                  how many unread emails do i have   \n",
       "2      3843                             order me chinese food   \n",
       "3      3296    does the nearby chinese restaurant do delivery   \n",
       "4     10732                remove pepper from my grocery list   \n",
       "\n",
       "                                 sentence_annotation          intent  \\\n",
       "0  siri what is one [currency_name : american dol...     qa_currency   \n",
       "1                   how many unread emails do i have     email_query   \n",
       "2                order me [food_type : chinese] food  takeaway_order   \n",
       "3  does the nearby [food_type : chinese] [busines...  takeaway_query   \n",
       "4   remove pepper from my [list_name : grocery] list    lists_remove   \n",
       "\n",
       "     action                                             tokens  scenario  \\\n",
       "0  currency  [{'surface': 'siri', 'id': 0, 'lemma': 'siri',...        qa   \n",
       "1     query  [{'surface': 'how', 'id': 0, 'lemma': 'how', '...     email   \n",
       "2     order  [{'surface': 'order', 'id': 0, 'lemma': 'order...  takeaway   \n",
       "3     query  [{'surface': 'does', 'id': 0, 'lemma': 'do', '...  takeaway   \n",
       "4    remove  [{'surface': 'remove', 'id': 0, 'lemma': 'remo...     lists   \n",
       "\n",
       "                                          recordings  \\\n",
       "0  [{'file': 'audio-1434542201-headset.flac', 'we...   \n",
       "1  [{'file': 'audio-1499695168-headset.flac', 'we...   \n",
       "2  [{'file': 'audio-1490201253-headset.flac', 'we...   \n",
       "3  [{'file': 'audio-1502299642-headset.flac', 'we...   \n",
       "4  [{'file': 'audio-1490184504-headset.flac', 'we...   \n",
       "\n",
       "                                            entities  \n",
       "0  [{'span': [4, 5], 'type': 'currency_name'}, {'...  \n",
       "1                                                 []  \n",
       "2               [{'span': [2], 'type': 'food_type'}]  \n",
       "3  [{'span': [3], 'type': 'food_type'}, {'span': ...  \n",
       "4               [{'span': [4], 'type': 'list_name'}]  "
      ]
     },
     "execution_count": 6,
     "metadata": {},
     "output_type": "execute_result"
    }
   ],
   "source": [
    "data.head()"
   ]
  },
  {
   "cell_type": "code",
   "execution_count": 7,
   "metadata": {},
   "outputs": [
    {
     "data": {
      "text/plain": [
       "Index(['slurp_id', 'sentence', 'sentence_annotation', 'intent', 'action',\n",
       "       'tokens', 'scenario', 'recordings', 'entities'],\n",
       "      dtype='object')"
      ]
     },
     "execution_count": 7,
     "metadata": {},
     "output_type": "execute_result"
    }
   ],
   "source": [
    "data.columns"
   ]
  },
  {
   "cell_type": "code",
   "execution_count": 8,
   "metadata": {},
   "outputs": [
    {
     "data": {
      "text/html": [
       "<div>\n",
       "<style scoped>\n",
       "    .dataframe tbody tr th:only-of-type {\n",
       "        vertical-align: middle;\n",
       "    }\n",
       "\n",
       "    .dataframe tbody tr th {\n",
       "        vertical-align: top;\n",
       "    }\n",
       "\n",
       "    .dataframe thead th {\n",
       "        text-align: right;\n",
       "    }\n",
       "</style>\n",
       "<table border=\"1\" class=\"dataframe\">\n",
       "  <thead>\n",
       "    <tr style=\"text-align: right;\">\n",
       "      <th></th>\n",
       "      <th>slurp_id</th>\n",
       "      <th>sentence</th>\n",
       "      <th>intent</th>\n",
       "      <th>recordings</th>\n",
       "    </tr>\n",
       "  </thead>\n",
       "  <tbody>\n",
       "    <tr>\n",
       "      <th>0</th>\n",
       "      <td>13804</td>\n",
       "      <td>siri what is one american dollar in japanese yen</td>\n",
       "      <td>qa_currency</td>\n",
       "      <td>[{'file': 'audio-1434542201-headset.flac', 'we...</td>\n",
       "    </tr>\n",
       "    <tr>\n",
       "      <th>1</th>\n",
       "      <td>16421</td>\n",
       "      <td>how many unread emails do i have</td>\n",
       "      <td>email_query</td>\n",
       "      <td>[{'file': 'audio-1499695168-headset.flac', 'we...</td>\n",
       "    </tr>\n",
       "    <tr>\n",
       "      <th>2</th>\n",
       "      <td>3843</td>\n",
       "      <td>order me chinese food</td>\n",
       "      <td>takeaway_order</td>\n",
       "      <td>[{'file': 'audio-1490201253-headset.flac', 'we...</td>\n",
       "    </tr>\n",
       "    <tr>\n",
       "      <th>3</th>\n",
       "      <td>3296</td>\n",
       "      <td>does the nearby chinese restaurant do delivery</td>\n",
       "      <td>takeaway_query</td>\n",
       "      <td>[{'file': 'audio-1502299642-headset.flac', 'we...</td>\n",
       "    </tr>\n",
       "    <tr>\n",
       "      <th>4</th>\n",
       "      <td>10732</td>\n",
       "      <td>remove pepper from my grocery list</td>\n",
       "      <td>lists_remove</td>\n",
       "      <td>[{'file': 'audio-1490184504-headset.flac', 'we...</td>\n",
       "    </tr>\n",
       "  </tbody>\n",
       "</table>\n",
       "</div>"
      ],
      "text/plain": [
       "   slurp_id                                          sentence          intent  \\\n",
       "0     13804  siri what is one american dollar in japanese yen     qa_currency   \n",
       "1     16421                  how many unread emails do i have     email_query   \n",
       "2      3843                             order me chinese food  takeaway_order   \n",
       "3      3296    does the nearby chinese restaurant do delivery  takeaway_query   \n",
       "4     10732                remove pepper from my grocery list    lists_remove   \n",
       "\n",
       "                                          recordings  \n",
       "0  [{'file': 'audio-1434542201-headset.flac', 'we...  \n",
       "1  [{'file': 'audio-1499695168-headset.flac', 'we...  \n",
       "2  [{'file': 'audio-1490201253-headset.flac', 'we...  \n",
       "3  [{'file': 'audio-1502299642-headset.flac', 'we...  \n",
       "4  [{'file': 'audio-1490184504-headset.flac', 'we...  "
      ]
     },
     "execution_count": 8,
     "metadata": {},
     "output_type": "execute_result"
    }
   ],
   "source": [
    "data = data[[\"slurp_id\", \"sentence\", \"intent\", \"recordings\"]]\n",
    "data.head()"
   ]
  },
  {
   "cell_type": "code",
   "execution_count": 9,
   "metadata": {},
   "outputs": [],
   "source": [
    "def filter_best_recording(recordings):\n",
    "    headset_subset = list(filter(lambda x: \"headset\" in x[\"file\"], recordings))\n",
    "    if not headset_subset:\n",
    "        return None\n",
    "    best_recording = min(headset_subset, key=lambda x: x[\"wer\"])\n",
    "    return best_recording[\"file\"]"
   ]
  },
  {
   "cell_type": "code",
   "execution_count": 10,
   "metadata": {},
   "outputs": [],
   "source": [
    "data.recordings = data.recordings.apply(filter_best_recording)"
   ]
  },
  {
   "cell_type": "code",
   "execution_count": 11,
   "metadata": {},
   "outputs": [
    {
     "name": "stdout",
     "output_type": "stream",
     "text": [
      "<class 'pandas.core.frame.DataFrame'>\n",
      "RangeIndex: 2033 entries, 0 to 2032\n",
      "Data columns (total 4 columns):\n",
      " #   Column      Non-Null Count  Dtype \n",
      "---  ------      --------------  ----- \n",
      " 0   slurp_id    2033 non-null   int64 \n",
      " 1   sentence    2033 non-null   object\n",
      " 2   intent      2033 non-null   object\n",
      " 3   recordings  1890 non-null   object\n",
      "dtypes: int64(1), object(3)\n",
      "memory usage: 63.7+ KB\n"
     ]
    }
   ],
   "source": [
    "data.info()"
   ]
  },
  {
   "cell_type": "code",
   "execution_count": 12,
   "metadata": {},
   "outputs": [],
   "source": [
    "data = data.dropna()"
   ]
  },
  {
   "cell_type": "code",
   "execution_count": 13,
   "metadata": {},
   "outputs": [
    {
     "data": {
      "text/html": [
       "<div>\n",
       "<style scoped>\n",
       "    .dataframe tbody tr th:only-of-type {\n",
       "        vertical-align: middle;\n",
       "    }\n",
       "\n",
       "    .dataframe tbody tr th {\n",
       "        vertical-align: top;\n",
       "    }\n",
       "\n",
       "    .dataframe thead th {\n",
       "        text-align: right;\n",
       "    }\n",
       "</style>\n",
       "<table border=\"1\" class=\"dataframe\">\n",
       "  <thead>\n",
       "    <tr style=\"text-align: right;\">\n",
       "      <th></th>\n",
       "      <th>slurp_id</th>\n",
       "      <th>sentence</th>\n",
       "      <th>intent</th>\n",
       "      <th>recordings</th>\n",
       "    </tr>\n",
       "  </thead>\n",
       "  <tbody>\n",
       "    <tr>\n",
       "      <th>0</th>\n",
       "      <td>13804</td>\n",
       "      <td>siri what is one american dollar in japanese yen</td>\n",
       "      <td>qa_currency</td>\n",
       "      <td>audio-1434542201-headset.flac</td>\n",
       "    </tr>\n",
       "    <tr>\n",
       "      <th>1</th>\n",
       "      <td>16421</td>\n",
       "      <td>how many unread emails do i have</td>\n",
       "      <td>email_query</td>\n",
       "      <td>audio-1499695168-headset.flac</td>\n",
       "    </tr>\n",
       "    <tr>\n",
       "      <th>2</th>\n",
       "      <td>3843</td>\n",
       "      <td>order me chinese food</td>\n",
       "      <td>takeaway_order</td>\n",
       "      <td>audio-1490201253-headset.flac</td>\n",
       "    </tr>\n",
       "    <tr>\n",
       "      <th>3</th>\n",
       "      <td>3296</td>\n",
       "      <td>does the nearby chinese restaurant do delivery</td>\n",
       "      <td>takeaway_query</td>\n",
       "      <td>audio-1434527358-headset.flac</td>\n",
       "    </tr>\n",
       "    <tr>\n",
       "      <th>4</th>\n",
       "      <td>10732</td>\n",
       "      <td>remove pepper from my grocery list</td>\n",
       "      <td>lists_remove</td>\n",
       "      <td>audio-1490184504-headset.flac</td>\n",
       "    </tr>\n",
       "    <tr>\n",
       "      <th>...</th>\n",
       "      <td>...</td>\n",
       "      <td>...</td>\n",
       "      <td>...</td>\n",
       "      <td>...</td>\n",
       "    </tr>\n",
       "    <tr>\n",
       "      <th>2028</th>\n",
       "      <td>5342</td>\n",
       "      <td>can you give me local news on wayne county she...</td>\n",
       "      <td>news_query</td>\n",
       "      <td>audio-1501407228-headset.flac</td>\n",
       "    </tr>\n",
       "    <tr>\n",
       "      <th>2029</th>\n",
       "      <td>5728</td>\n",
       "      <td>every light of room increase its intensity</td>\n",
       "      <td>iot_hue_lightup</td>\n",
       "      <td>audio-1501772225-headset.flac</td>\n",
       "    </tr>\n",
       "    <tr>\n",
       "      <th>2030</th>\n",
       "      <td>5989</td>\n",
       "      <td>i would like some coffee now</td>\n",
       "      <td>iot_coffee</td>\n",
       "      <td>audio-1497621031-headset.flac</td>\n",
       "    </tr>\n",
       "    <tr>\n",
       "      <th>2031</th>\n",
       "      <td>13202</td>\n",
       "      <td>what is the population of los angeles</td>\n",
       "      <td>qa_factoid</td>\n",
       "      <td>audio-1490799323-headset.flac</td>\n",
       "    </tr>\n",
       "    <tr>\n",
       "      <th>2032</th>\n",
       "      <td>12656</td>\n",
       "      <td>i need a taxi at eight tomorrow morning to tak...</td>\n",
       "      <td>transport_taxi</td>\n",
       "      <td>audio-1490280593-headset.flac</td>\n",
       "    </tr>\n",
       "  </tbody>\n",
       "</table>\n",
       "<p>1890 rows × 4 columns</p>\n",
       "</div>"
      ],
      "text/plain": [
       "      slurp_id                                           sentence  \\\n",
       "0        13804   siri what is one american dollar in japanese yen   \n",
       "1        16421                   how many unread emails do i have   \n",
       "2         3843                              order me chinese food   \n",
       "3         3296     does the nearby chinese restaurant do delivery   \n",
       "4        10732                 remove pepper from my grocery list   \n",
       "...        ...                                                ...   \n",
       "2028      5342  can you give me local news on wayne county she...   \n",
       "2029      5728         every light of room increase its intensity   \n",
       "2030      5989                       i would like some coffee now   \n",
       "2031     13202              what is the population of los angeles   \n",
       "2032     12656  i need a taxi at eight tomorrow morning to tak...   \n",
       "\n",
       "               intent                     recordings  \n",
       "0         qa_currency  audio-1434542201-headset.flac  \n",
       "1         email_query  audio-1499695168-headset.flac  \n",
       "2      takeaway_order  audio-1490201253-headset.flac  \n",
       "3      takeaway_query  audio-1434527358-headset.flac  \n",
       "4        lists_remove  audio-1490184504-headset.flac  \n",
       "...               ...                            ...  \n",
       "2028       news_query  audio-1501407228-headset.flac  \n",
       "2029  iot_hue_lightup  audio-1501772225-headset.flac  \n",
       "2030       iot_coffee  audio-1497621031-headset.flac  \n",
       "2031       qa_factoid  audio-1490799323-headset.flac  \n",
       "2032   transport_taxi  audio-1490280593-headset.flac  \n",
       "\n",
       "[1890 rows x 4 columns]"
      ]
     },
     "execution_count": 13,
     "metadata": {},
     "output_type": "execute_result"
    }
   ],
   "source": [
    "data"
   ]
  },
  {
   "cell_type": "code",
   "execution_count": 17,
   "metadata": {},
   "outputs": [],
   "source": [
    "from src.utils.inference_onnx import Wave2Vec2ONNXInference"
   ]
  },
  {
   "cell_type": "code",
   "execution_count": 19,
   "metadata": {},
   "outputs": [],
   "source": [
    "asr = Wave2Vec2ONNXInference(\n",
    "    \"facebook/wav2vec2-base-960h\",\n",
    "    \"../models/wav2vec2-base-960h.onnx\"\n",
    ")"
   ]
  },
  {
   "cell_type": "code",
   "execution_count": 21,
   "metadata": {},
   "outputs": [],
   "source": [
    "from pathlib import Path"
   ]
  },
  {
   "cell_type": "code",
   "execution_count": 22,
   "metadata": {},
   "outputs": [
    {
     "data": {
      "text/plain": [
       "'sery what is one american dull in japanesian'"
      ]
     },
     "execution_count": 22,
     "metadata": {},
     "output_type": "execute_result"
    }
   ],
   "source": [
    "asr.predict(Path(\"../data/slurp_dataset/audio/slurp_real\") / data.recordings.values[0])"
   ]
  },
  {
   "cell_type": "code",
   "execution_count": 24,
   "metadata": {},
   "outputs": [
    {
     "data": {
      "text/plain": [
       "'siri what is one american dollar in japanese yen'"
      ]
     },
     "execution_count": 24,
     "metadata": {},
     "output_type": "execute_result"
    }
   ],
   "source": [
    "data.sentence.values[0]"
   ]
  },
  {
   "cell_type": "code",
   "execution_count": null,
   "metadata": {},
   "outputs": [],
   "source": []
  }
 ],
 "metadata": {
  "kernelspec": {
   "display_name": "venv",
   "language": "python",
   "name": "python3"
  },
  "language_info": {
   "codemirror_mode": {
    "name": "ipython",
    "version": 3
   },
   "file_extension": ".py",
   "mimetype": "text/x-python",
   "name": "python",
   "nbconvert_exporter": "python",
   "pygments_lexer": "ipython3",
   "version": "3.10.12"
  },
  "orig_nbformat": 4
 },
 "nbformat": 4,
 "nbformat_minor": 2
}
